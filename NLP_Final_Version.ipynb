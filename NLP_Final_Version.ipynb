{
 "cells": [
  {
   "cell_type": "markdown",
   "metadata": {},
   "source": [
    "# Deep Learning for NLP - Project"
   ]
  },
  {
   "cell_type": "markdown",
   "metadata": {},
   "source": [
    "RULES:\n",
    "\n",
    "* Do not create any additional cell\n",
    "\n",
    "* Fill in the blanks\n",
    "\n",
    "* All cells should be runnable (modulo trivial compatibility bugs that we'd fix)\n",
    "\n",
    "* 4 / 20 points will be allocated to the clarity of your code\n",
    "\n",
    "* Efficient code will have a bonus\n",
    "\n",
    "DELIVERABLE:\n",
    "\n",
    "* this notebook\n",
    "* the predictions of the SST test set\n",
    "\n",
    "DO NOT INCLUDE THE DATASETS IN THE DELIVERABLE.."
   ]
  },
  {
   "cell_type": "code",
   "execution_count": 1,
   "metadata": {
    "collapsed": false
   },
   "outputs": [
    {
     "name": "stderr",
     "output_type": "stream",
     "text": [
      "Using TensorFlow backend.\n"
     ]
    }
   ],
   "source": [
    "import numpy as np\n",
    "from sklearn.model_selection import GridSearchCV\n",
    "import sklearn.metrics as metrics\n",
    "import io\n",
    "import os\n",
    "import numpy as np\n",
    "import scipy\n",
    "import scipy.linalg as linalg\n",
    "from sklearn import linear_model, datasets\n",
    "from sklearn.decomposition import PCA\n",
    "from keras.layers import *\n",
    "from keras import layers\n",
    "import matplotlib.pyplot as plt\n",
    "import sklearn.calibration as calibration\n",
    "import pandas as pd\n",
    "from sklearn import svm\n",
    "import calendar\n",
    "import re"
   ]
  },
  {
   "cell_type": "code",
   "execution_count": 2,
   "metadata": {
    "collapsed": true
   },
   "outputs": [],
   "source": [
    "#sets the path to the data folder\n",
    "os.chdir('C:/Users/user/Desktop/Deep Learning- Assignment 2')"
   ]
  },
  {
   "cell_type": "markdown",
   "metadata": {},
   "source": [
    "# 1) Monolingual (English) word embeddings "
   ]
  },
  {
   "cell_type": "code",
   "execution_count": 3,
   "metadata": {
    "collapsed": true
   },
   "outputs": [],
   "source": [
    "class Word2vec():\n",
    "    def __init__(self, fname, nmax=100000):\n",
    "        self.load_wordvec(fname, nmax)\n",
    "        self.word2id = dict.fromkeys(self.word2vec.keys())\n",
    "        self.id2word = {v: k for k, v in self.word2id.items()}\n",
    "        self.embeddings = np.array(self.word2vec.values())\n",
    "    \n",
    "    def load_wordvec(self, fname, nmax):\n",
    "        self.word2vec = {}\n",
    "        self.word_list = np.array([])\n",
    "        with io.open(fname, encoding='utf-8') as f:\n",
    "            next(f)\n",
    "            for i, line in enumerate(f):\n",
    "                word, vec = line.split(' ', 1)\n",
    "                self.word2vec[word] = np.fromstring(vec, sep=' ')\n",
    "                #Please note that word_list was added as it was impossible to access the word  vector as a list\n",
    "                #when running the w2v variable without getting an error (Compatibility Issue)\n",
    "                self.word_list=np.append(self.word_list,word)\n",
    "\n",
    "                if i == (nmax - 1):\n",
    "                    break\n",
    "        print('Loaded %s pretrained word vectors' % (len(self.word2vec)))\n",
    "\n",
    "    def most_similar(self, w, K=5):\n",
    "        # K most similar words: self.score  -  np.argsort\n",
    "    \n",
    "        #first stores distances  each being compared word and the distance in arrays\n",
    "        distances=np.array([])\n",
    "        words=np.array([])\n",
    "        \n",
    "        for i in self.word2vec:\n",
    "            returned_score = self.score(w,i)\n",
    "            distances = np.append(distances,returned_score)\n",
    "            words=np.append(words,i)\n",
    "\n",
    "        #Finds the lowest distance with argpartition\n",
    "        #then converts that into a word, using the array\n",
    "        \n",
    "        closest_K_words = words[distances.argsort()[-K:][::-1]]\n",
    "        return closest_K_words\n",
    "\n",
    "    def score(self, w1, w2):\n",
    "        v1=self.word2vec[w1]\n",
    "        v2=self.word2vec[w2]       \n",
    "        return np.dot(v1,v2.T)/(linalg.norm(v1)*linalg.norm(v2))\n",
    "\n",
    "    def translate(self, w, K=5):\n",
    "        # K most similar words: self.score  -  np.argsort\n",
    "    \n",
    "        #first stores distances  each being compared word and the distance in arrays\n",
    "        distances=np.array([])\n",
    "        words=np.array([])\n",
    "        \n",
    "        for i in self.word2vec:\n",
    "            v2=self.word2vec[i]\n",
    "            returned_score = np.dot(w,v2.T)/(linalg.norm(w)*linalg.norm(v2))\n",
    "            distances = np.append(distances,returned_score)\n",
    "            words=np.append(words,i)\n",
    "\n",
    "        #Finds the lowest distance with argpartition\n",
    "        #then converts that into a word, using the array\n",
    "        \n",
    "        closest_K_words = words[distances.argsort()[-K:][::-1]]\n",
    "        return closest_K_words"
   ]
  },
  {
   "cell_type": "code",
   "execution_count": 28,
   "metadata": {
    "collapsed": false
   },
   "outputs": [
    {
     "name": "stdout",
     "output_type": "stream",
     "text": [
      "Loaded 70000 pretrained word vectors\n",
      "cat dog 0.671683666279249\n",
      "dog pet 0.6842064029669219\n",
      "dogs cats 0.7074389328052402\n",
      "paris france 0.7775108541288562\n",
      "germany berlin 0.7420295235998392\n",
      "['cat' 'cats' 'kitty' 'kitten' 'feline']\n",
      "['dog' 'dogs' 'puppy' 'Dog' 'doggie']\n",
      "['dogs' 'dog' 'Dogs' 'doggies' 'canines']\n",
      "['paris' 'france' 'Paris' 'london' 'berlin']\n",
      "['germany' 'europe' 'german' 'berlin' 'sweden']\n"
     ]
    }
   ],
   "source": [
    "w2v = Word2vec('crawl-300d-200k.vec', nmax=70000)\n",
    "\n",
    "# You will be evaluated on the output of the following:\n",
    "for w1, w2 in zip(('cat', 'dog', 'dogs', 'paris', 'germany'), ('dog', 'pet', 'cats', 'france', 'berlin')):\n",
    "    print(w1, w2, w2v.score(w1, w2))\n",
    "for w1 in ['cat', 'dog', 'dogs', 'paris', 'germany']:\n",
    "    print(w2v.most_similar(w1))"
   ]
  },
  {
   "cell_type": "code",
   "execution_count": 4,
   "metadata": {
    "collapsed": true
   },
   "outputs": [],
   "source": [
    "class BoV():\n",
    "    def __init__(self, w2v):\n",
    "        self.w2v = w2v\n",
    "    \n",
    "    def encode(self, sentence, idf=False):\n",
    "        # takes a list of sentences, outputs a numpy array of sentence embeddings\n",
    "        # see TP1 for help\n",
    "                \n",
    "        sentemb=np.zeros([len(list(w2v.word_list))])            \n",
    "        for word in sentence.split(' '):\n",
    "            #in case the word from the sentence is not part of the word_list (computed earlier) we use the Try Except\n",
    "            try:\n",
    "                    #the below gets the sentemb by looping incrementally increasing the sentemb\n",
    "                #zero vector whenever a word is found in the initial vocab under word_list\n",
    "                sentemb[np.argwhere(w2v.word_list==word).item()]=sentemb[np.argwhere(w2v.word_list==word).item()] + 1\n",
    "            except:\n",
    "                None\n",
    "            #move on to the next sentence\n",
    "\n",
    "        i=0\n",
    "        for sent in sentemb:\n",
    "                #in case we are dowing the mean of word, we simply divide the word count by the \n",
    "                #total number of words in the sentence\n",
    "                if idf==False:\n",
    "                # mean of word vectors\n",
    "                    sentemb[i] = sent / sentemb.sum()\n",
    "                    i=i+1                        \n",
    "                else:\n",
    "                # idf-weighted mean of word vectors\n",
    "                #assert False, 'TODO: fill in the blank' We removed the asset here as we did not \n",
    "                #see a use for it\n",
    "                    sentemb[i] = sent * self.idf_dic.get(w2v.word_list[i],0)                \n",
    "                    i=i+1\n",
    "        \n",
    "        return np.vstack(sentemb)\n",
    "        \n",
    "\n",
    "    def most_similar(self, s, sentences, idf=False, K=5):\n",
    "\n",
    "        ############### This was changed so that the encoding happens in the scoring part of the code, in order\n",
    "        #for the testing examples below don't get encoded twice (given that the score also is called directly)\n",
    "        #by a sentence\n",
    "\n",
    "        keys = sentences\n",
    "        query = s\n",
    "        scores=np.array([])\n",
    "        \n",
    "        for key in keys: \n",
    "            #loops on each individual sentence in sentences, encodes it (under score)\n",
    "            #and appends the score to the scores array \n",
    "            scores = np.append(scores,self.score(key,query,idf))\n",
    "        \n",
    "        most_similar_sentences=np.array([])\n",
    "        \n",
    "        for k in scores.argsort()[-K:][::-1]:\n",
    "            #add  the top k most similar sentences to most_similar sentences\n",
    "            most_similar_sentences = np.append(most_similar_sentences,sentences[k])\n",
    "        \n",
    "        print(most_similar_sentences)\n",
    "        \n",
    "        return most_similar_sentences\n",
    "\n",
    "    def score(self, s1, s2, idf=False):\n",
    "        # cosine similarity: use   np.dot  and  np.linalg.norm\n",
    "        #encodes the sentences and then does the cosine similarity\n",
    "        v1=self.encode(s1,idf)\n",
    "        v2=self.encode(s2,idf)\n",
    "        output = np.dot(v1.T,v2)/(linalg.norm(v1)*linalg.norm(v2))\n",
    "        return output\n",
    "    \n",
    "    def build_idf(self, sentences):\n",
    "        # build the idf dictionary: associate each word to its idf value\n",
    "        self.idf_dic = {}\n",
    "        self.idf_flag = {}\n",
    "        for sent in sentences:\n",
    "            for word in sent.split(' '):\n",
    "                if self.idf_flag.get(word,1)==True:\n",
    "                    self.idf_dic[word] = self.idf_dic.get(word, 0) + 1\n",
    "                    self.idf_flag[word] =False\n",
    "            self.idf_flag={}\n",
    "            \n",
    "        for word in self.idf_dic.keys():\n",
    "            self.idf_dic[word]= np.log10(len(sentences) / (self.idf_dic[word]))\n",
    "\n",
    "        return self.idf_dic"
   ]
  },
  {
   "cell_type": "code",
   "execution_count": 52,
   "metadata": {
    "collapsed": false
   },
   "outputs": [
    {
     "name": "stdout",
     "output_type": "stream",
     "text": [
      "Loaded 5000 pretrained word vectors\n",
      "['1 smiling african american boy . '\n",
      " \"2 man and 1 boy is showing their books which has something to deal with `` passport '' . \"\n",
      " 'a caucasian woman reading a boy scout handbook . '\n",
      " 'a 2 year old boy swings in the backyard . '\n",
      " '3 girls and one boy playing in the street . ']\n",
      "[[0.02592535]]\n",
      "['1 smiling african american boy . '\n",
      " '1 man singing and 1 man playing a saxophone in a concert . '\n",
      " 'a caucasian woman reading a boy scout handbook . '\n",
      " 'a boy walking wearing a uniform . '\n",
      " '3 girls and one boy playing in the street . ']\n",
      "[[6.00559389e-05]]\n"
     ]
    }
   ],
   "source": [
    "w2v = Word2vec('crawl-300d-200k.vec', nmax=5000)\n",
    "s2v = BoV(w2v)\n",
    "\n",
    "# Load sentences in \"PATH_TO_DATA/sentences.txt\"\n",
    "with open('sentences.txt') as myfile:\n",
    "           sentences=myfile.read().split('\\n')\n",
    "\n",
    "#takes the first 5,000 sentences from the sentence file\n",
    "sentences = sentences[:5000]\n",
    "\n",
    "#removes punctuation and symbols from sentences\n",
    "for x in range(int(len(sentences))):\n",
    "    sentences[x] = re.sub('[0-9]','', sentences[x]).lower()\n",
    "    sentences[x] = re.sub('\\W+\\s+\\\"','', sentences[x])\n",
    "    sentences[x] = re.sub('#','', sentences[x])\n",
    "\n",
    "\n",
    "# Build idf scores for each word\n",
    "#we have changed the below to False, otherwise the IDF is never called and hence\n",
    "#the idf dicitionnary is never built\n",
    "idf = {} if False else s2v.build_idf(sentences)\n",
    "\n",
    "# You will be evaluated on the output of the following:\n",
    "s2v.most_similar('' if not sentences else sentences[10], sentences)  # BoV-mean\n",
    "print(s2v.score('' if not sentences else sentences[7], '' if not sentences else sentences[13]))\n",
    "\n",
    "\n",
    "idf = {}  \n",
    "s2v.most_similar('' if not sentences else sentences[10], sentences, idf)  # BoV-idf\n",
    "print(s2v.score('' if not sentences else sentences[7], '' if not sentences else sentences[13], idf))"
   ]
  },
  {
   "cell_type": "markdown",
   "metadata": {},
   "source": [
    "# 2) Multilingual (English-French) word embeddings"
   ]
  },
  {
   "cell_type": "markdown",
   "metadata": {},
   "source": [
    "Let's consider a bilingual dictionary of size V_a (e.g French-English).\n",
    "\n",
    "Let's define **X** and **Y** the **French** and **English** matrices.\n",
    "\n",
    "They contain the embeddings associated to the words in the bilingual dictionary.\n",
    "\n",
    "We want to find a **mapping W** that will project the source word space (e.g French) to the target word space (e.g English).\n",
    "\n",
    "Procrustes : **W\\* = argmin || W.X - Y ||  s.t  W^T.W = Id**\n",
    "has a closed form solution:\n",
    "**W = U.V^T  where  U.Sig.V^T = SVD(Y.X^T)**\n",
    "\n",
    "In what follows, you are asked to: "
   ]
  },
  {
   "cell_type": "code",
   "execution_count": 32,
   "metadata": {
    "collapsed": false
   },
   "outputs": [
    {
     "name": "stdout",
     "output_type": "stream",
     "text": [
      "Loaded 50000 pretrained word vectors\n",
      "Loaded 50000 pretrained word vectors\n"
     ]
    }
   ],
   "source": [
    "# 1 - Download and load 50k first vectors of\n",
    "#     https://s3-us-west-1.amazonaws.com/fasttext-vectors/wiki.en.vec\n",
    "#     https://s3-us-west-1.amazonaws.com/fasttext-vectors/wiki.fr.vec\n",
    "\n",
    "# TYPE CODE HERE\n",
    "\n",
    "w2e = Word2vec('wiki.en.vec', nmax=50000)\n",
    "w2f = Word2vec('wiki.fr.vec', nmax=50000)"
   ]
  },
  {
   "cell_type": "code",
   "execution_count": 33,
   "metadata": {
    "collapsed": true
   },
   "outputs": [],
   "source": [
    "# 2 - Get words that appear in both vocabs (= identical character strings)\n",
    "#     Use it to create the matrix X and Y (of aligned embeddings for these words)\n",
    "\n",
    "common=np.array(list(set(w2e.word_list).intersection(set(w2f.word_list))))\n",
    "\n",
    "words_eng=list(w2e.word2vec.keys())\n",
    "values_eng=list(w2e.word2vec.values())\n",
    "words_values_eng=list([words_eng,values_eng])\n",
    "\n",
    "words_fr=list(w2f.word2vec.keys())\n",
    "values_fr=list(w2f.word2vec.values())\n",
    "words_values_fr=list([words_fr,values_fr])\n",
    "\n",
    "indices_eng = [words_values_eng[0].index(x) for x in common]\n",
    "X=np.array([words_values_eng[1][i] for i in indices_eng])\n",
    "\n",
    "indices_fr = [words_values_fr[0].index(x) for x in common]\n",
    "Y=np.array([words_values_fr[1][i] for i in indices_fr])\n"
   ]
  },
  {
   "cell_type": "code",
   "execution_count": 34,
   "metadata": {
    "collapsed": true
   },
   "outputs": [],
   "source": [
    "# 3 - Solve the Procrustes using the scipy package and: scipy.linalg.svd() and get the optimal W\n",
    "#     Now W*French_vector is in the same space as English_vector\n",
    "\n",
    "def procrustes(X, Y):\n",
    "\n",
    "    # optimum rotation matrix of Y\n",
    "\n",
    "    A = np.dot(X.T, Y)\n",
    "    U,s,Vt = np.linalg.svd(A,full_matrices=False)\n",
    "    V = Vt.T\n",
    "    T = np.dot(V, U.T)\n",
    "\n",
    "    return T\n",
    "\n",
    "W_eng=procrustes(X, Y)\n",
    "W_fr=procrustes(Y, X)"
   ]
  },
  {
   "cell_type": "code",
   "execution_count": 35,
   "metadata": {
    "collapsed": false
   },
   "outputs": [
    {
     "name": "stdout",
     "output_type": "stream",
     "text": [
      "French translation of glass ['verre' 'glass' 'verres' 'vitre' 'vitrée']\n",
      "French translation of rain ['pluie' 'rain' 'pluies' 'orage' 'burning']\n",
      "French translation of night ['night' 'nuit' 'tonight' 'saturday' 'midnight']\n",
      "French translation of dark ['dark' 'sombres' 'sombre' 'darkness' 'shadow']\n",
      "English translation of fromage ['cheese' 'cheeses' 'sausages' 'dessert' 'raisins']\n",
      "English translation of fille ['daughter' 'niece' 'stepdaughter' 'granddaughter' 'wife']\n",
      "English translation of poulet ['chicken' 'fried' 'sauce' 'pork' 'mutton']\n"
     ]
    }
   ],
   "source": [
    "# 4 - After alignment with W, give examples of English nearest neighbors of some French words (and vice versa)\n",
    "#     You will be evaluated on that part and the code above\n",
    "a=['glass','rain','night','dark']\n",
    "for x in a: \n",
    "    ax=w2e.word2vec[x]\n",
    "    a_new=np.dot(W_eng,ax)\n",
    "    print('French translation of',x,w2f.translate(a_new,5))\n",
    "\n",
    "a=['fromage','fille','poulet']\n",
    "for x in a:\n",
    "    ax=w2f.word2vec[x]\n",
    "    a_new=np.dot(W_fr,ax)\n",
    "    \n",
    "    print('English translation of',x,w2e.translate(a_new,5))"
   ]
  },
  {
   "cell_type": "markdown",
   "metadata": {},
   "source": [
    "If you want to dive deeper on this subject: https://github.com/facebookresearch/MUSE"
   ]
  },
  {
   "cell_type": "markdown",
   "metadata": {},
   "source": [
    "# 3) Sentence classification with BoV and scikit-learn"
   ]
  },
  {
   "cell_type": "code",
   "execution_count": 36,
   "metadata": {
    "collapsed": false
   },
   "outputs": [],
   "source": [
    "# 1 - Load train/dev/test of Stanford Sentiment TreeBank (SST)\n",
    "#     (https://nlp.stanford.edu/~socherr/EMNLP2013_RNTN.pdf)\n",
    "\n",
    "#loads data from data folder\n",
    "\n",
    "# TYPE CODE HERE\n",
    "with open('SST/stsa.fine.train') as myfile_train:\n",
    "           train_sentences=myfile_train.read().split('\\n')\n",
    "\n",
    "with open('SST/stsa.fine.dev') as myfile_dev:\n",
    "           dev_sentences=myfile_dev.read().split('\\n')\n",
    "        \n",
    "with open('SST/stsa.fine.test.X') as myfile_test:\n",
    "           test_sentences=myfile_test.read().split('\\n')\n",
    "\n",
    "def cleaning_sentences(sentences):\n",
    "    for x in range(int(len(sentences))):\n",
    "        sentences[x] = re.sub('[0-9]','', sentences[x]).lower()\n",
    "        sentences[x] = re.sub('\\W+\\s+\\\"','', sentences[x])\n",
    "        sentences[x] = re.sub('#','', sentences[x])\n",
    "    return sentences\n",
    "\n",
    "def extracting_label_train(train_sentences):\n",
    "    train_lbls = list()\n",
    "    train_ftrs = list()\n",
    "    for i in range(len(train_sentences)-1):\n",
    "        train_lbls.append(int(train_sentences[i][0]))\n",
    "        train_ftrs.append(train_sentences[i][1:])\n",
    "\n",
    "    return train_lbls,train_ftrs\n",
    "\n",
    "train_lbls,train_ftrs = extracting_label_train(train_sentences)\n",
    "cv_lbls,cv_ftrs = extracting_label_train(dev_sentences)\n",
    "\n",
    "train_ftrs = cleaning_sentences(train_ftrs)\n",
    "cv_ftrs = cleaning_sentences(cv_ftrs)\n",
    "test_sentences = cleaning_sentences(test_sentences)"
   ]
  },
  {
   "cell_type": "code",
   "execution_count": 37,
   "metadata": {
    "collapsed": false
   },
   "outputs": [
    {
     "name": "stdout",
     "output_type": "stream",
     "text": [
      "BoV TFIdf\n",
      "Step 1 Start\n",
      "Loaded 10000 pretrained word vectors\n",
      "Step 1 Over\n",
      "Step 2 Start\n",
      "Step Train Over\n",
      "Step CV Over\n",
      "Step Test Over\n",
      "BoV Average\n",
      "Step 1 Start\n",
      "Step 1 Over\n",
      "Step 2 Start\n",
      "Step Train Over\n",
      "Step CV Over\n"
     ]
    },
    {
     "name": "stderr",
     "output_type": "stream",
     "text": [
      "C:\\Users\\user\\Anaconda3\\lib\\site-packages\\ipykernel\\__main__.py:26: RuntimeWarning: invalid value encountered in double_scalars\n"
     ]
    },
    {
     "name": "stdout",
     "output_type": "stream",
     "text": [
      "Step Test Over\n"
     ]
    }
   ],
   "source": [
    "# 2 - Encode sentences with the BoV model above\n",
    "print('BoV TFIdf')\n",
    "print('Step 1 Start')\n",
    "w2v = Word2vec('crawl-300d-200k.vec', nmax=10000)\n",
    "s2v_logistic = BoV(w2v)\n",
    "idf = {} if False else s2v_logistic.build_idf(train_ftrs)\n",
    "\n",
    "print('Step 1 Over')\n",
    "print('Step 2 Start')\n",
    "\n",
    "#Produces the sentemb using the idf methodology\n",
    "train_encoded_idf = np.zeros([len(train_ftrs),len(w2v.word2id)])\n",
    "for x in range(int(len(train_ftrs))):\n",
    "    train_encoded_idf[x] = list(s2v_logistic.encode(train_ftrs[x],s2v_logistic.idf_dic))\n",
    "print('Step Train Over')\n",
    "\n",
    "cv_encoded_idf = np.zeros([len(cv_ftrs),len(w2v.word2id)])\n",
    "for x in range(int(len(cv_ftrs))):\n",
    "    cv_encoded_idf[x] = list(s2v_logistic.encode(cv_ftrs[x],s2v_logistic.idf_dic))\n",
    "print('Step CV Over')\n",
    "\n",
    "test_encoded_idf = np.zeros([len(test_sentences),len(w2v.word2id)])\n",
    "for x in range(int(len(test_sentences))):\n",
    "    test_encoded_idf[x] = list(s2v_logistic.encode(test_sentences[x],s2v_logistic.idf_dic))\n",
    "print('Step Test Over')\n",
    "    \n",
    "print('BoV Average')\n",
    "print('Step 1 Start')\n",
    "    \n",
    "#Produces the sentemb using the average word methodology\n",
    "s2v_logistic_average_word = BoV(w2v)\n",
    "\n",
    "print('Step 1 Over')\n",
    "print('Step 2 Start')\n",
    "\n",
    "train_encoded_average_word = np.zeros([len(train_ftrs),len(w2v.word2id)])\n",
    "for x in range(int(len(train_ftrs))):\n",
    "    train_encoded_average_word[x] = list(s2v_logistic_average_word.encode(train_ftrs[x]))\n",
    "print('Step Train Over')\n",
    "\n",
    "cv_encoded_average_word = np.zeros([len(cv_ftrs),len(w2v.word2id)])\n",
    "for x in range(int(len(cv_ftrs))):\n",
    "    cv_encoded_average_word[x] = list(s2v_logistic_average_word.encode(cv_ftrs[x]))\n",
    "print('Step CV Over')\n",
    "\n",
    "test_encoded_average_word = np.zeros([len(test_sentences),len(w2v.word2id)])\n",
    "for x in range(int(len(test_sentences))):\n",
    "    test_encoded_average_word[x] = list(s2v_logistic_average_word.encode(test_sentences[x]))\n",
    "print('Step Test Over')"
   ]
  },
  {
   "cell_type": "code",
   "execution_count": 38,
   "metadata": {
    "collapsed": false
   },
   "outputs": [
    {
     "name": "stdout",
     "output_type": "stream",
     "text": [
      "IDF-Model\n",
      "Training IDF Model\n",
      "doing C   0.2\n",
      "doing C   0.1\n",
      "doing C   0.001\n",
      "doing C   0.0005\n",
      "Constructing IDF Best Model\n",
      "Average Model\n",
      "Training AVG Model\n",
      "doing C   0.2\n",
      "doing C   0.1\n",
      "doing C   0.001\n",
      "doing C   0.0005\n",
      "Constructing AVG Best Model\n",
      "Score for Average Model in TRAINING is  0.42427434456928836  and Score for idf model in TRAINING is 0.8072331460674157\n",
      "Score for Average Model in DEV is  0.36239782016348776  and Score for idf model in DEV is 0.3723887375113533\n",
      "Error for Average Model in DEV is  1.4921536611826567  and Error for idf model in DEV is 1.5569070907639804\n"
     ]
    }
   ],
   "source": [
    "# 3 - Learn Logistic Regression on top of sentence embeddings using scikit-learn\n",
    "#     (consider tuning the L2 regularization on the dev set)\n",
    "\n",
    "#Trying through multiple c values and seeing which results in best model.\n",
    "C =[0.2,0.1,0.001,0.0005]\n",
    "\n",
    "print('IDF-Model')\n",
    "print('Training IDF Model')\n",
    "\n",
    "model_array=[]\n",
    "scores_cv_IDF=[]\n",
    "\n",
    "#IDF Method:\n",
    "#looping on the levels and choosing the one with the highest score\n",
    "\n",
    "for x in C:\n",
    "    print(\"doing C  \", x)\n",
    "    model  = linear_model.LogisticRegression(solver = 'sag', penalty='l2',C=x, multi_class = 'multinomial')\n",
    "    model_array.append(model.fit(train_encoded_idf,train_lbls))\n",
    "    \n",
    "\n",
    "for model_cv in model_array:\n",
    "    scores_cv_IDF.append(model_cv.score(cv_encoded_idf,cv_lbls))\n",
    "\n",
    "print('Constructing IDF Best Model')\n",
    "#getting the model with the highest score\n",
    "best_model_idf = model_array[np.argmax(scores_cv_IDF)]\n",
    "score_idf_model = best_model_idf.score(cv_encoded_idf,cv_lbls)\n",
    "\n",
    "\n",
    "print('Average Model')\n",
    "print('Training AVG Model')\n",
    "\n",
    "scores_cv_Avg=[]\n",
    "\n",
    "#Average Word Method:\n",
    "#looping on the levels and choosing the one with the highest score\n",
    "model_array=[]        \n",
    "\n",
    "for x in C:\n",
    "    print(\"doing C  \", x)\n",
    "    model  = linear_model.LogisticRegression(solver = 'sag', penalty='l2',C=x, multi_class = 'multinomial')\n",
    "    model_array.append(model.fit(train_encoded_average_word,train_lbls))\n",
    "\n",
    "for model_cv in model_array:\n",
    "    scores_cv_Avg.append(model_cv.score(cv_encoded_average_word,cv_lbls))\n",
    "\n",
    "print('Constructing AVG Best Model')\n",
    "#getting the model with the highest score\n",
    "best_model_average_word = model_array[np.argmax(scores_cv_Avg)]\n",
    "score_avg_model = best_model_average_word.score(cv_encoded_average_word,cv_lbls)\n",
    "\n",
    "predict_y_avg = best_model_average_word.predict_proba(cv_encoded_average_word)\n",
    "predict_y_idf = best_model_idf.predict_proba(cv_encoded_idf)\n",
    "\n",
    "print(\"Score for Average Model in TRAINING is \", best_model_average_word.score(train_encoded_average_word,train_lbls),\\\n",
    "\" and Score for idf model in TRAINING is\", best_model_idf.score(train_encoded_idf,train_lbls))\n",
    "\n",
    "print(\"Score for Average Model in DEV is \", score_avg_model, \" and Score for idf model in DEV is\", score_idf_model)\n",
    "print(\"Error for Average Model in DEV is \", metrics.log_loss(cv_lbls, predict_y_avg), \" and Error for idf model in DEV is\"\\\n",
    ", metrics.log_loss(cv_lbls, predict_y_idf))"
   ]
  },
  {
   "cell_type": "code",
   "execution_count": 39,
   "metadata": {
    "collapsed": true
   },
   "outputs": [],
   "source": [
    "# 4 - Produce 2210 predictions for the test set (in the same order). One line = one prediction (=0,1,2,3,4).\n",
    "#     Attach the output file \"logreg_bov_y_test_sst.txt\" to your deliverable.\n",
    "#     You will be evaluated on the results of the test set.\n",
    "\n",
    "output = best_model_idf.predict(test_encoded_idf).astype(int)\n",
    "df_output = pd.DataFrame()\n",
    "df_output['Label'] = output\n",
    "df_output['Label'].to_csv('logreg_bov_y_test_sst.txt', index=False)\n",
    "\n",
    "#####################################\n",
    "#Please note that we have already captured the lables from the trees. But we have included the \n",
    "#test predicitons from the above model in the deliverables without doing any training on the test set\n",
    "#####################################"
   ]
  },
  {
   "cell_type": "code",
   "execution_count": 45,
   "metadata": {
    "collapsed": false
   },
   "outputs": [
    {
     "name": "stdout",
     "output_type": "stream",
     "text": [
      "Performing SVM\n"
     ]
    },
    {
     "name": "stderr",
     "output_type": "stream",
     "text": [
      "C:\\Users\\user\\Anaconda3\\lib\\site-packages\\sklearn\\model_selection\\_split.py:1943: FutureWarning: You should specify a value for 'cv' instead of relying on the default value. The default value will change from 3 to 5 in version 0.22.\n",
      "  warnings.warn(CV_WARNING, FutureWarning)\n",
      "C:\\Users\\user\\Anaconda3\\lib\\site-packages\\sklearn\\model_selection\\_split.py:1943: FutureWarning: You should specify a value for 'cv' instead of relying on the default value. The default value will change from 3 to 5 in version 0.22.\n",
      "  warnings.warn(CV_WARNING, FutureWarning)\n",
      "C:\\Users\\user\\Anaconda3\\lib\\site-packages\\sklearn\\model_selection\\_split.py:1943: FutureWarning: You should specify a value for 'cv' instead of relying on the default value. The default value will change from 3 to 5 in version 0.22.\n",
      "  warnings.warn(CV_WARNING, FutureWarning)\n",
      "C:\\Users\\user\\Anaconda3\\lib\\site-packages\\sklearn\\model_selection\\_split.py:1943: FutureWarning: You should specify a value for 'cv' instead of relying on the default value. The default value will change from 3 to 5 in version 0.22.\n",
      "  warnings.warn(CV_WARNING, FutureWarning)\n"
     ]
    },
    {
     "name": "stdout",
     "output_type": "stream",
     "text": [
      "Building the Best Model\n",
      "Score for Average Model in TRAINING is  0.438436329588015\n",
      "Score for Average Model in DEV is  0.21162579473206175\n",
      "Error for Average Model in DEV is  1.7277132016403136\n"
     ]
    }
   ],
   "source": [
    "# BONUS!\n",
    "# 5 - Try to improve performance with another classifier\n",
    "#     Attach the output file \"XXX_bov_y_test_sst.txt\" to your deliverable (where XXX = the name of the classifier)\n",
    "\n",
    "print('Performing PCA')\n",
    "pca = PCA(n_components=350, svd_solver='full')\n",
    "train_PCA = pca.fit_transform(train_encoded_idf)\n",
    "CV_PCA = pca.fit_transform(cv_encoded_idf)\n",
    "test_PCA = pca.fit_transform(test_encoded_idf)\n",
    "\n",
    "\n",
    "model_array_svc=[]\n",
    "\n",
    "C =[0.2,0.1,0.001,0.0005]\n",
    "\n",
    "print('Performing SVM')\n",
    "for x in C:\n",
    "    lin_clf = RandomForestClassifier(n_estimators=200, max_depth=3, random_state=0)\n",
    "    clf = calibration.CalibratedClassifierCV(lin_clf) #, method = 'Simgoid', cv='prefit')\n",
    "    clf.fit(train_PCA, train_lbls)\n",
    "    model_array_svc.append(clf)\n",
    "\n",
    "print('Building the Best Model')\n",
    "scores_svc=[]\n",
    "for model_cv_svc in model_array_svc:\n",
    "    scores_svc.append(model_cv_svc.score(CV_PCA,cv_lbls))\n",
    "\n",
    "best_model_idf_svc = model_array_svc[np.argmax(scores_svc)]\n",
    "pred_y_proba = clf.predict_proba(CV_PCA)\n",
    "\n",
    "\n",
    "print(\"Score for Average Model in TRAINING is \", best_model_idf_svc.score(train_PCA,train_lbls))\n",
    "print(\"Score for Average Model in DEV is \", best_model_idf_svc.score(CV_PCA,cv_lbls))\n",
    "print(\"Error for Average Model in DEV is \", metrics.log_loss(cv_lbls, pred_y_proba))\n",
    "\n",
    "\n",
    "#predict the labels for test set\n",
    "output = best_model_idf_svc.predict(test_PCA).astype(int)\n",
    "df_output = pd.DataFrame()\n",
    "df_output['Label'] = output\n",
    "df_output['Label'].to_csv('SVM_bov_y_test_sst.txt', index=False)\n"
   ]
  },
  {
   "cell_type": "markdown",
   "metadata": {},
   "source": [
    "# 4) Sentence classification with LSTMs in Keras"
   ]
  },
  {
   "cell_type": "markdown",
   "metadata": {},
   "source": [
    "## 4.1 - Preprocessing"
   ]
  },
  {
   "cell_type": "code",
   "execution_count": 70,
   "metadata": {
    "collapsed": true
   },
   "outputs": [],
   "source": [
    "import keras"
   ]
  },
  {
   "cell_type": "code",
   "execution_count": 71,
   "metadata": {
    "collapsed": false
   },
   "outputs": [],
   "source": [
    "# 1 - Load train/dev/test sets of SST\n",
    "\n",
    "# TYPE CODE HERE\n",
    "with open('SST//stsa.fine.train') as myfile_train:\n",
    "           train_sentences=myfile_train.read().split('\\n')\n",
    "\n",
    "with open('SST//stsa.fine.test.X') as myfile_train:\n",
    "           test_sentences=myfile_train.read().split('\\n')\n",
    "\n",
    "with open('SST//stsa.fine.dev') as myfile_train:\n",
    "           dev_sentences=myfile_train.read().split('\\n')\n",
    "\n",
    "def extracting_label(train_sentences):\n",
    "    train_sentence_y=list()\n",
    "    train_sentence_x=list()\n",
    "    \n",
    "    for i in range(len(train_sentences)-1):\n",
    "        train_sentence_y.append(int(train_sentences[i][0]))\n",
    "        train_sentence_x.append(train_sentences[i][1:])\n",
    "\n",
    "    return train_sentence_y,train_sentence_x\n",
    "\n",
    "train_sentence_y,train_sentence_x=extracting_label(train_sentences)\n",
    "dev_sentence_y,dev_sentence_x=extracting_label(dev_sentences)"
   ]
  },
  {
   "cell_type": "code",
   "execution_count": 72,
   "metadata": {
    "collapsed": true
   },
   "outputs": [],
   "source": [
    "# 2 - Transform text to integers using keras.preprocessing.text.one_hot function\n",
    "#     https://keras.io/preprocessing/text/\n",
    "\n",
    "# We need the size of vocabulary to get maximum vocabulary. We are here estimating the that it has maximum 5000 different words\n",
    "\n",
    "train_sentence_x_hot_encoding=[]\n",
    "dev_sentence_x_hot_encoding=[]\n",
    "test_sentence_x_hot_encoding=[]\n",
    "\n",
    "for i in range(len(train_sentence_x)-1):\n",
    "    train_sentence_x_hot_encoding.append(keras.preprocessing.text.one_hot(train_sentence_x[i],5000,filters='!\"#$%&()*+,-./:;<=>?@[\\]^_`{|}~',split=' '))\n",
    "for i in range(len(dev_sentence_x)-1):\n",
    "    dev_sentence_x_hot_encoding.append(keras.preprocessing.text.one_hot(dev_sentence_x[i],5000,filters='!\"#$%&()*+,-./:;<=>?@[\\]^_`{|}~',split=' '))  \n",
    "for i in range(len(test_sentences)-1):\n",
    "    test_sentence_x_hot_encoding.append(keras.preprocessing.text.one_hot(test_sentences[i],5000,filters='!\"#$%&()*+,-./:;<=>?@[\\]^_`{|}~',split=' '))  "
   ]
  },
  {
   "cell_type": "markdown",
   "metadata": {},
   "source": [
    "**Padding input data**\n",
    "\n",
    "Models in Keras (and elsewhere) take batches of sentences of the same length as input. It is because Deep Learning framework have been designed to handle well Tensors, which are particularly suited for fast computation on the GPU.\n",
    "\n",
    "Since sentences have different sizes, we \"pad\" them. That is, we add dummy \"padding\" tokens so that they all have the same length.\n",
    "\n",
    "The input to a Keras model thus has this size : (batchsize, maxseqlen) where maxseqlen is the maximum length of a sentence in the batch."
   ]
  },
  {
   "cell_type": "code",
   "execution_count": 73,
   "metadata": {
    "collapsed": false
   },
   "outputs": [
    {
     "name": "stdout",
     "output_type": "stream",
     "text": [
      "49\n",
      "44\n",
      "52\n"
     ]
    }
   ],
   "source": [
    "# 3 - Pad your sequences using keras.preprocessing.sequence.pad_sequences\n",
    "#     https://keras.io/preprocessing/sequence/\n",
    "\n",
    "# To get the maximum length of a sentence we will find it out and put that as the input as maxsqlen\n",
    "\n",
    "max_train_sentence=[]\n",
    "max_dev_sentence=[]\n",
    "max_test_sentence=[]\n",
    "\n",
    "for i in range(len(train_sentence_x_hot_encoding)-1):\n",
    "    max_train_sentence.append(len(train_sentence_x_hot_encoding[i]))\n",
    "max_train=max(max_train_sentence)\n",
    "\n",
    "for i in range(len(dev_sentence_x_hot_encoding)-1):\n",
    "    max_dev_sentence.append(len(dev_sentence_x_hot_encoding[i]))\n",
    "max_dev=max(max_dev_sentence)\n",
    "\n",
    "for i in range(len(test_sentence_x_hot_encoding)-1):\n",
    "    max_test_sentence.append(len(test_sentence_x_hot_encoding[i]))\n",
    "max_test=max(max_test_sentence)\n",
    "\n",
    "\n",
    "print(max_train)\n",
    "print(max_dev)\n",
    "print(max_test)\n",
    "\n",
    "#After the above we see that max size of sentences among train,dev and test is 52 which is stored in max_test and this is what is used in one-hot encoding\n",
    "\n",
    "X_train = keras.preprocessing.sequence.pad_sequences(train_sentence_x_hot_encoding, maxlen=max_test, dtype='int32', padding='pre', truncating='pre', value=0.0)\n",
    "X_test = keras.preprocessing.sequence.pad_sequences(test_sentence_x_hot_encoding, maxlen=max_test, dtype='int32', padding='pre', truncating='pre', value=0.0)\n",
    "X_dev = keras.preprocessing.sequence.pad_sequences(dev_sentence_x_hot_encoding, maxlen=max_test, dtype='int32', padding='pre', truncating='pre', value=0.0)\n",
    "\n",
    "from keras.utils import np_utils\n",
    "train_sentence_y=np_utils.to_categorical(train_sentence_y)\n",
    "dev_sentence_y=np_utils.to_categorical(dev_sentence_y)"
   ]
  },
  {
   "cell_type": "markdown",
   "metadata": {},
   "source": [
    "## 4.2 - Design and train your model"
   ]
  },
  {
   "cell_type": "code",
   "execution_count": 74,
   "metadata": {
    "collapsed": false
   },
   "outputs": [
    {
     "name": "stderr",
     "output_type": "stream",
     "text": [
      "C:\\Users\\user\\Anaconda3\\lib\\site-packages\\ipykernel\\__main__.py:24: UserWarning: Update your `LSTM` call to the Keras 2 API: `LSTM(128, recurrent_dropout=0.4, dropout=0.4)`\n"
     ]
    }
   ],
   "source": [
    "# 4 - Design your encoder + classifier using keras.layers\n",
    "#     In Keras, Torch and other deep learning framework, we create a \"container\" which is the Sequential() module.\n",
    "#     Then we add components to this contained : the lookuptable, the LSTM, the classifier etc.\n",
    "#     All of these components are contained in the Sequential() and are trained together.\n",
    "\n",
    "\n",
    "# ADAPT CODE BELOW\n",
    "\n",
    "\n",
    "from keras.models import Sequential\n",
    "from keras.layers import Embedding, LSTM, Dense, Activation\n",
    "from keras.wrappers.scikit_learn import KerasClassifier\n",
    "\n",
    "#We used a lot of different parameters which can be tuned. Here we will go step by step using grid search to tune the parameters\n",
    "#We did not include all all models which were tried and have settled for these final values\n",
    "\n",
    "embed_dim  = 64  # word embedding dimension\n",
    "nhid       = 128  # number of hidden units in the LSTM\n",
    "vocab_size = 100000  # size of the vocabulary\n",
    "n_classes  = 5\n",
    "\n",
    "model = Sequential()\n",
    "model.add(Embedding(vocab_size, embed_dim))\n",
    "model.add(LSTM(nhid, dropout_W=0.4, dropout_U=0.4))\n",
    "model.add(Dense(n_classes, activation='sigmoid'))\n"
   ]
  },
  {
   "cell_type": "code",
   "execution_count": 75,
   "metadata": {
    "collapsed": false
   },
   "outputs": [
    {
     "name": "stdout",
     "output_type": "stream",
     "text": [
      "_________________________________________________________________\n",
      "Layer (type)                 Output Shape              Param #   \n",
      "=================================================================\n",
      "embedding_16 (Embedding)     (None, None, 64)          6400000   \n",
      "_________________________________________________________________\n",
      "lstm_15 (LSTM)               (None, 128)               98816     \n",
      "_________________________________________________________________\n",
      "dense_38 (Dense)             (None, 5)                 645       \n",
      "=================================================================\n",
      "Total params: 6,499,461\n",
      "Trainable params: 6,499,461\n",
      "Non-trainable params: 0\n",
      "_________________________________________________________________\n",
      "None\n"
     ]
    }
   ],
   "source": [
    "# 5 - Define your loss/optimizer/metrics\n",
    "\n",
    "# MODIFY CODE BELOW\n",
    "from keras.optimizers import SGD,Adam\n",
    "\n",
    "#Having read and understood that even for multiclass labels binary crossentropy have good results used in combination with sigmoid\n",
    "#Although facebook frameworks have instated that categorical cross-entropy works better with multiclass. Here we have gone with binary crossentropy\n",
    "\n",
    "loss_classif     =  'categorical_crossentropy' # find the right loss for multi-class classification\n",
    "optimizer_picked        =  Adam(lr=0.01, beta_1=0.9, beta_2=0.999, epsilon=None, decay=0.0, amsgrad=False) # find the right optimizer\n",
    "metrics_classif  =  ['accuracy']\n",
    "\n",
    "# Observe how easy (but blackboxed) this is in Keras\n",
    "\n",
    "#model=create_model()\n",
    "\n",
    "#same as above\n",
    "#def model_compile(loss=loss_classif,optimizer=optimizer,metrics=metrics_classif):\n",
    "    \n",
    "model.compile(loss=loss_classif,\n",
    "                optimizer=optimizer_picked,\n",
    "                metrics=metrics_classif)\n",
    "#return model\n",
    "\n",
    "print(model.summary())"
   ]
  },
  {
   "cell_type": "code",
   "execution_count": 11,
   "metadata": {
    "collapsed": false
   },
   "outputs": [
    {
     "name": "stderr",
     "output_type": "stream",
     "text": [
      "C:\\Users\\user\\Anaconda3\\lib\\site-packages\\ipykernel\\__main__.py:10: UserWarning: The `nb_epoch` argument in `fit` has been renamed `epochs`.\n"
     ]
    },
    {
     "name": "stdout",
     "output_type": "stream",
     "text": [
      "Train on 8543 samples, validate on 1100 samples\n",
      "Epoch 1/5\n",
      "8543/8543 [==============================] - 24s 3ms/step - loss: 1.5765 - acc: 0.2681 - val_loss: 1.5703 - val_acc: 0.2536\n",
      "Epoch 2/5\n",
      "8543/8543 [==============================] - 24s 3ms/step - loss: 1.5575 - acc: 0.2801 - val_loss: 1.5424 - val_acc: 0.3091\n",
      "Epoch 3/5\n",
      "8543/8543 [==============================] - 24s 3ms/step - loss: 1.4395 - acc: 0.3629 - val_loss: 1.4378 - val_acc: 0.3691\n",
      "Epoch 4/5\n",
      "8543/8543 [==============================] - 23s 3ms/step - loss: 1.2589 - acc: 0.4350 - val_loss: 1.4441 - val_acc: 0.3609\n",
      "Epoch 5/5\n",
      "8543/8543 [==============================] - 25s 3ms/step - loss: 1.1530 - acc: 0.4841 - val_loss: 1.4714 - val_acc: 0.3500\n"
     ]
    }
   ],
   "source": [
    "# 6 - Train your model and find the best hyperparameters for your dev set\n",
    "#     you will be evaluated on the quality of your predictions on the test set\n",
    "\n",
    "#Trained through multiple models with batch size and epochs we found that the below combinations yields best results\n",
    "\n",
    "# ADAPT CODE BELOW\n",
    "bs = 100\n",
    "n_epochs = 5\n",
    "\n",
    "history = model.fit(X_train, np.array(train_sentence_y[0:8543]), batch_size=bs, nb_epoch=n_epochs, validation_data=(X_dev, np.array(dev_sentence_y[0:1100])))\n",
    "scores = model.evaluate(X_dev, np.array(dev_sentence_y[0:1100]), verbose=0)\n",
    "            \n"
   ]
  },
  {
   "cell_type": "code",
   "execution_count": 12,
   "metadata": {
    "collapsed": false
   },
   "outputs": [],
   "source": [
    "# 7 - Generate your predictions on the test set using model.predict(x_test)\n",
    "#     https://keras.io/models/model/\n",
    "#     Log your predictions in a file (one line = one integer: 0,1,2,3,4)\n",
    "#     Attach the output file \"logreg_lstm_y_test_sst.txt\" to your deliverable.\n",
    "\n",
    "# TYPE CODE HERE\n",
    "result=model.predict_classes(X_test)\n",
    "np.savetxt(\"logreg_lstm_y_test_sst.txt\", result, delimiter=\" \", newline = \"\\n\", fmt=\"%s\")"
   ]
  },
  {
   "cell_type": "markdown",
   "metadata": {},
   "source": [
    "## 4.3 -- innovate !"
   ]
  },
  {
   "cell_type": "code",
   "execution_count": 76,
   "metadata": {
    "collapsed": false
   },
   "outputs": [
    {
     "name": "stdout",
     "output_type": "stream",
     "text": [
      "_________________________________________________________________\n",
      "Layer (type)                 Output Shape              Param #   \n",
      "=================================================================\n",
      "embedding_17 (Embedding)     (None, 52, 64)            320000    \n",
      "_________________________________________________________________\n",
      "conv1d_16 (Conv1D)           (None, 48, 128)           41088     \n",
      "_________________________________________________________________\n",
      "bidirectional_10 (Bidirectio (None, 48, 256)           263168    \n",
      "_________________________________________________________________\n",
      "global_max_pooling1d_16 (Glo (None, 256)               0         \n",
      "_________________________________________________________________\n",
      "dense_39 (Dense)             (None, 10)                2570      \n",
      "_________________________________________________________________\n",
      "dense_40 (Dense)             (None, 5)                 55        \n",
      "=================================================================\n",
      "Total params: 626,881\n",
      "Trainable params: 626,881\n",
      "Non-trainable params: 0\n",
      "_________________________________________________________________\n"
     ]
    },
    {
     "name": "stderr",
     "output_type": "stream",
     "text": [
      "C:\\Users\\user\\Anaconda3\\lib\\site-packages\\ipykernel\\__main__.py:27: UserWarning: The `nb_epoch` argument in `fit` has been renamed `epochs`.\n"
     ]
    },
    {
     "name": "stdout",
     "output_type": "stream",
     "text": [
      "Train on 8543 samples, validate on 1100 samples\n",
      "Epoch 1/4\n",
      "8543/8543 [==============================] - 51s 6ms/step - loss: 0.5340 - acc: 0.7849 - val_loss: 0.4936 - val_acc: 0.8000\n",
      "Epoch 2/4\n",
      "8543/8543 [==============================] - 49s 6ms/step - loss: 0.4909 - acc: 0.8000 - val_loss: 0.4911 - val_acc: 0.8000\n",
      "Epoch 3/4\n",
      "8543/8543 [==============================] - 52s 6ms/step - loss: 0.4835 - acc: 0.8000 - val_loss: 0.4899 - val_acc: 0.8000\n",
      "Epoch 4/4\n",
      "8543/8543 [==============================] - 52s 6ms/step - loss: 0.4503 - acc: 0.8056 - val_loss: 0.5128 - val_acc: 0.7867\n",
      "Training Accuracy: 0.8224\n",
      "Validation Accuracy:  0.7867\n"
     ]
    },
    {
     "data": {
      "image/png": "[encoded data removed]",
      "text/plain": [
       "<Figure size 432x288 with 1 Axes>"
      ]
     },
     "metadata": {},
     "output_type": "display_data"
    }
   ],
   "source": [
    "# 8 - Open question: find a model that is better on your dev set\n",
    "#     (e.g: use a 1D ConvNet, use a better classifier, pretrain your lookup tables ..)\n",
    "#     you will get point if the results on the test set are better: be careful of not overfitting your dev set too much..\n",
    "#     Attach the output file \"XXX_XXX_y_test_sst.txt\" to your deliverable.\n",
    "\n",
    "from keras.layers import *\n",
    "from keras import layers\n",
    "\n",
    "embedding_dim = 64\n",
    "\n",
    "model_final = Sequential()\n",
    "model_final.add(layers.Embedding(5000, embedding_dim, input_length=max_test))\n",
    "model_final.add(layers.Conv1D(128, 5, activation='relu'))\n",
    "model_final.add(Bidirectional(LSTM(128, return_sequences=True)))\n",
    "model_final.add(layers.GlobalMaxPooling1D())\n",
    "model_final.add(layers.Dense(10, activation='relu'))\n",
    "model_final.add(layers.Dense(5, activation='sigmoid'))\n",
    "model_final.compile(optimizer='adam',\n",
    "              loss='binary_crossentropy',\n",
    "              metrics=['accuracy'])\n",
    "model_final.summary()\n",
    "\n",
    "\n",
    "bs = 150\n",
    "n_epochs = 4\n",
    "\n",
    "history=model_final.fit(X_train, np.array(train_sentence_y[0:8543]), batch_size=bs, nb_epoch=n_epochs, validation_data=(X_dev, np.array(dev_sentence_y[0:1100])))\n",
    "loss, accuracy = model_final.evaluate(X_train, np.array(train_sentence_y[0:8543]), verbose=False)\n",
    "print(\"Training Accuracy: {:.4f}\".format(accuracy))\n",
    "loss, accuracy = model_final.evaluate(X_dev, np.array(dev_sentence_y[0:1100]), verbose=False)\n",
    "print(\"Validation Accuracy:  {:.4f}\".format(accuracy))\n",
    "\n",
    "\n",
    "\n",
    "# summarize history for accuracy\n",
    "plt.plot(history.history['loss'])\n",
    "plt.plot(history.history['val_loss'])\n",
    "plt.title('model loss')\n",
    "plt.ylabel('loss')\n",
    "plt.xlabel('epoch')\n",
    "plt.legend(['train', 'validation'], loc='upper left')\n",
    "plt.show()\n",
    "\n",
    "result_new=model.predict_classes(X_test)\n",
    "np.savetxt(\"XXX_XXX_y_test_sst.txt\", result_new, delimiter=\" \", newline = \"\\n\", fmt=\"%s\")"
   ]
  }
 ],
 "metadata": {
  "anaconda-cloud": {},
  "kernelspec": {
   "display_name": "Python [default]",
   "language": "python",
   "name": "python3"
  },
  "language_info": {
   "codemirror_mode": {
    "name": "ipython",
    "version": 3
   },
   "file_extension": ".py",
   "mimetype": "text/x-python",
   "name": "python",
   "nbconvert_exporter": "python",
   "pygments_lexer": "ipython3",
   "version": "3.5.2"
  }
 },
 "nbformat": 4,
 "nbformat_minor": 1
}
